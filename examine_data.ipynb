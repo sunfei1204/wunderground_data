{
 "cells": [
  {
   "cell_type": "markdown",
   "metadata": {},
   "source": [
    "# Examining the raw data I downloaded, and doing some cleaning, summarizing etc."
   ]
  },
  {
   "cell_type": "markdown",
   "metadata": {},
   "source": [
    "## Some issues with data:\n",
    "- Some temps are -99999 (bad data flag?)\n",
    "- Some rows have max temps less than min temps! "
   ]
  },
  {
   "cell_type": "markdown",
   "metadata": {},
   "source": [
    "## Plan\n",
    "- do one station at a time\n",
    "- Check for and remove duplicate rows\n",
    "- Remove rows where temps are bad, according to following conditions:\n",
    "- temp values = -99999 : this is about 4.5% of rows in the database\n",
    "- temp <-50 | >150\n",
    "- max temp < min temp"
   ]
  },
  {
   "cell_type": "code",
   "execution_count": 1,
   "metadata": {
    "collapsed": true
   },
   "outputs": [],
   "source": [
    "# %load /Users/Andy/jupyter_imports.py\n",
    "import boto3\n",
    "import pandas as pd\n",
    "import numpy as np\n",
    "import matplotlib.pyplot as plt\n",
    "%matplotlib inline\n",
    "\n",
    "# make plots look nice\n",
    "plt.rcParams['font.size'] = 14\n",
    "plt.rcParams['axes.labelsize'] = 'large'\n",
    "plt.rcParams['xtick.labelsize'] = 'large'\n",
    "plt.rcParams['ytick.labelsize'] = 'large'\n",
    "plt.rcParams['lines.linewidth'] = 3\n",
    "\n",
    "import sqlite3\n",
    "con = sqlite3.connect('/Users/Andy/Projects/wunderground_data/wunderground_daily.db')"
   ]
  },
  {
   "cell_type": "code",
   "execution_count": null,
   "metadata": {
    "collapsed": true
   },
   "outputs": [],
   "source": [
    "# check for bad values (flagged as -99999)\n",
    "dat = pd.read_sql_query(\"SELECT * from wea where mean_temp==-99999 or max_temp==-99999 or mean_temp==-9999 \",con)\n",
    "#dat.head()"
   ]
  },
  {
   "cell_type": "code",
   "execution_count": null,
   "metadata": {
    "collapsed": true
   },
   "outputs": [],
   "source": [
    "nr = pd.read_sql_query(\"select count(*) from wea  \",con)\n",
    "nr.values"
   ]
  },
  {
   "cell_type": "code",
   "execution_count": null,
   "metadata": {
    "collapsed": true
   },
   "outputs": [],
   "source": [
    "# what percent of data is bad?\n",
    "nrb = dat.shape[0]\n",
    "#nrb\n",
    "nrb / nr.values * 100 "
   ]
  },
  {
   "cell_type": "code",
   "execution_count": null,
   "metadata": {
    "collapsed": true
   },
   "outputs": [],
   "source": [
    "# abnormally high temperatures not flagged as -99999 in raw data\n",
    "dat = pd.read_sql_query(\"SELECT * FROM wea WHERE mean_temp>150 and mean_temp!=-99999\",con)\n",
    "dat.head()\n",
    "#dat.shape\n"
   ]
  },
  {
   "cell_type": "code",
   "execution_count": null,
   "metadata": {
    "collapsed": true
   },
   "outputs": [],
   "source": [
    "# abnormally low temperatures not flagged as -99999 in raw data\n",
    "dat = pd.read_sql_query(\"SELECT * FROM wea WHERE mean_temp<-100 and mean_temp!=-99999\",con)\n",
    "dat.head()\n",
    "dat.shape"
   ]
  },
  {
   "cell_type": "code",
   "execution_count": null,
   "metadata": {
    "collapsed": true
   },
   "outputs": [],
   "source": [
    "dat.head()"
   ]
  },
  {
   "cell_type": "code",
   "execution_count": null,
   "metadata": {
    "collapsed": true
   },
   "outputs": [],
   "source": [
    "dat = pd.read_sql_query(\"select * from wea where st_code='KDEN' \",con)\n",
    "#dat.loc[dat.mean_temp<-50]\n",
    "dat.describe()"
   ]
  },
  {
   "cell_type": "code",
   "execution_count": null,
   "metadata": {
    "collapsed": true
   },
   "outputs": [],
   "source": [
    "dat = pd.read_sql_query(\"select * from wea where st_code='KSEA' \",con)\n",
    "len1 = dat.shape[0]\n",
    "dat.date = pd.to_datetime(dat.date)\n",
    "dat.where(dat.mean_temp>-50,inplace=True)\n",
    "dat.where(dat.mean_temp<150,inplace=True)\n",
    "dat.drop_duplicates(inplace=True)\n",
    "len2 = dat.shape[0]"
   ]
  },
  {
   "cell_type": "code",
   "execution_count": null,
   "metadata": {
    "collapsed": true
   },
   "outputs": [],
   "source": [
    "len1-len2"
   ]
  },
  {
   "cell_type": "code",
   "execution_count": null,
   "metadata": {
    "collapsed": true
   },
   "outputs": [],
   "source": [
    "\n",
    "#plt.ylim(30,80)"
   ]
  },
  {
   "cell_type": "code",
   "execution_count": null,
   "metadata": {
    "collapsed": true
   },
   "outputs": [],
   "source": [
    "\n",
    "#plt.ylim(30,80)"
   ]
  },
  {
   "cell_type": "code",
   "execution_count": null,
   "metadata": {
    "collapsed": true
   },
   "outputs": [],
   "source": [
    "plt.figure(figsize=(18,8))\n",
    "plt.plot(dat.date,dat.max_temp)\n",
    "plt.grid();"
   ]
  },
  {
   "cell_type": "code",
   "execution_count": null,
   "metadata": {
    "collapsed": true
   },
   "outputs": [],
   "source": [
    "# some where max_temp < min temp!!!!!\n",
    "dat[dat.max_temp==0]"
   ]
  },
  {
   "cell_type": "markdown",
   "metadata": {
    "collapsed": true
   },
   "source": [
    "## Now write script/function to remove all bad data "
   ]
  },
  {
   "cell_type": "code",
   "execution_count": null,
   "metadata": {
    "collapsed": true
   },
   "outputs": [],
   "source": [
    "stcode = 'KSEA'\n",
    "dat = pd.read_sql_query(\"select * from wea where st_code=? \",con,params=[stcode])\n",
    "#dat.info()\n",
    "dat.head()"
   ]
  },
  {
   "cell_type": "code",
   "execution_count": null,
   "metadata": {
    "collapsed": true
   },
   "outputs": [],
   "source": [
    "dat.info()"
   ]
  },
  {
   "cell_type": "code",
   "execution_count": null,
   "metadata": {
    "collapsed": true
   },
   "outputs": [],
   "source": [
    "dat['precip_In'][dat['precip_In']=='T']='0.01'\n",
    "dat['precip_In']=pd.to_numeric(dat['precip_In'])\n",
    "dat.head()"
   ]
  },
  {
   "cell_type": "code",
   "execution_count": 2,
   "metadata": {
    "collapsed": true
   },
   "outputs": [],
   "source": [
    "\n",
    "def clean_data(dat):\n",
    "\n",
    "    dat.date = pd.to_datetime(dat.date)\n",
    "\n",
    "    Tmin = -100\n",
    "    Tmax =  150\n",
    "\n",
    "    dat.where(dat.mean_temp>Tmin, inplace=True)\n",
    "    dat.where(dat.mean_temp<Tmax, inplace=True)\n",
    "\n",
    "    dat.where(dat.min_temp>Tmin, inplace=True)\n",
    "    dat.where(dat.min_temp<Tmax, inplace=True)\n",
    "\n",
    "    dat.where(dat.max_temp>Tmin, inplace=True)\n",
    "    dat.where(dat.max_temp<Tmax, inplace=True)\n",
    "\n",
    "    dat.where(dat.max_temp > dat.min_temp, inplace=True)\n",
    "\n",
    "    dat.drop_duplicates(inplace=True)\n",
    "    \n",
    "    # convert 'Trace' precip to 0.01\n",
    "    # I want to preserve the fact that there was rain, but very small amount\n",
    "    # Also, sometimes precip_In is read in as float, not object? (maybe if it contains no 'T'?)\n",
    "    if dat.precip_In.dtype=='object':\n",
    "        dat['precip_In'][dat['precip_In']=='T'] = '0.01'\n",
    "        dat.precip_In = pd.to_numeric(dat.precip_In)\n",
    "    \n",
    "    # some precip values are way too large\n",
    "    # According to weather.com :The most extreme 24-hour rainfall total on record \n",
    "    # in the U.S. is 42.0 inches near Alvin, Texas, between 7 a.m. July 25 and 7 a.m.\n",
    "    # July 26, 1979.\n",
    "    # I will keep values < 50\n",
    "    dat.where(dat.precip_In<50, inplace=True)\n",
    "    \n",
    "    # screen unreasonably high winds\n",
    "    dat.where(dat.max_gust_mph<300, inplace=True)\n",
    "    \n",
    "    return dat\n"
   ]
  },
  {
   "cell_type": "code",
   "execution_count": null,
   "metadata": {
    "collapsed": true
   },
   "outputs": [],
   "source": [
    "\n",
    "dat = clean_data(dat)\n",
    "dat"
   ]
  },
  {
   "cell_type": "code",
   "execution_count": null,
   "metadata": {
    "collapsed": true
   },
   "outputs": [],
   "source": [
    "dat.info()"
   ]
  },
  {
   "cell_type": "code",
   "execution_count": null,
   "metadata": {
    "collapsed": true
   },
   "outputs": [],
   "source": [
    "plt.figure(figsize=(18,8))\n",
    "#plt.plot(dat.date,dat.min_temp)\n",
    "plt.plot(dat.date,dat.mean_temp)\n",
    "#plt.plot(dat.date,dat.max_temp)\n",
    "plt.grid();\n",
    "plt.xlabel('date')\n",
    "plt.ylabel('mean temp')\n",
    "plt.title(stcode)"
   ]
  },
  {
   "cell_type": "code",
   "execution_count": null,
   "metadata": {
    "collapsed": true
   },
   "outputs": [],
   "source": [
    "plt.figure(figsize=(18,8))\n",
    "plt.plot(dat.date, dat.precip_In,'.')\n",
    "plt.grid();"
   ]
  },
  {
   "cell_type": "code",
   "execution_count": null,
   "metadata": {
    "collapsed": true
   },
   "outputs": [],
   "source": [
    "plt.figure(figsize=(18,8))\n",
    "plt.plot(dat.date, dat.max_gust_mph,'.')\n",
    "plt.grid();"
   ]
  },
  {
   "cell_type": "code",
   "execution_count": null,
   "metadata": {
    "collapsed": true
   },
   "outputs": [],
   "source": [
    "plt.figure(figsize=(18,8))\n",
    "plt.plot(dat.date, dat.cloud_cover,'.')\n",
    "plt.grid();"
   ]
  },
  {
   "cell_type": "code",
   "execution_count": null,
   "metadata": {
    "collapsed": true
   },
   "outputs": [],
   "source": []
  },
  {
   "cell_type": "code",
   "execution_count": null,
   "metadata": {
    "collapsed": true
   },
   "outputs": [],
   "source": []
  },
  {
   "cell_type": "markdown",
   "metadata": {},
   "source": [
    "## Loop through all stations and make cleaned data\n",
    "- save cleaned csv files, with all data for each station (not yearly files)\n",
    "- make new database with cleaned data"
   ]
  },
  {
   "cell_type": "code",
   "execution_count": 3,
   "metadata": {},
   "outputs": [
    {
     "data": {
      "text/html": [
       "<div>\n",
       "<style>\n",
       "    .dataframe thead tr:only-child th {\n",
       "        text-align: right;\n",
       "    }\n",
       "\n",
       "    .dataframe thead th {\n",
       "        text-align: left;\n",
       "    }\n",
       "\n",
       "    .dataframe tbody tr th {\n",
       "        vertical-align: top;\n",
       "    }\n",
       "</style>\n",
       "<table border=\"1\" class=\"dataframe\">\n",
       "  <thead>\n",
       "    <tr style=\"text-align: right;\">\n",
       "      <th></th>\n",
       "      <th>Unnamed: 0</th>\n",
       "      <th>Station</th>\n",
       "      <th>State</th>\n",
       "      <th>airportCode</th>\n",
       "      <th>Lat</th>\n",
       "      <th>Lon</th>\n",
       "      <th>Elevation</th>\n",
       "      <th>WMO</th>\n",
       "    </tr>\n",
       "  </thead>\n",
       "  <tbody>\n",
       "    <tr>\n",
       "      <th>0</th>\n",
       "      <td>1</td>\n",
       "      <td>Central</td>\n",
       "      <td>AK</td>\n",
       "      <td>PARL</td>\n",
       "      <td>65.57</td>\n",
       "      <td>-144.80</td>\n",
       "      <td>292</td>\n",
       "      <td>99999</td>\n",
       "    </tr>\n",
       "    <tr>\n",
       "      <th>1</th>\n",
       "      <td>2</td>\n",
       "      <td>Atka</td>\n",
       "      <td>AK</td>\n",
       "      <td>PAAK</td>\n",
       "      <td>52.22</td>\n",
       "      <td>-174.20</td>\n",
       "      <td>17</td>\n",
       "      <td>99999</td>\n",
       "    </tr>\n",
       "    <tr>\n",
       "      <th>2</th>\n",
       "      <td>3</td>\n",
       "      <td>Buckland</td>\n",
       "      <td>AK</td>\n",
       "      <td>PABL</td>\n",
       "      <td>65.99</td>\n",
       "      <td>-161.12</td>\n",
       "      <td>0</td>\n",
       "      <td>99999</td>\n",
       "    </tr>\n",
       "    <tr>\n",
       "      <th>3</th>\n",
       "      <td>4</td>\n",
       "      <td>Portage Glacier</td>\n",
       "      <td>AK</td>\n",
       "      <td>PATO</td>\n",
       "      <td>60.79</td>\n",
       "      <td>-148.83</td>\n",
       "      <td>29</td>\n",
       "      <td>99999</td>\n",
       "    </tr>\n",
       "    <tr>\n",
       "      <th>4</th>\n",
       "      <td>5</td>\n",
       "      <td>Nivalina</td>\n",
       "      <td>AK</td>\n",
       "      <td>PAVL</td>\n",
       "      <td>67.73</td>\n",
       "      <td>-164.55</td>\n",
       "      <td>3</td>\n",
       "      <td>70148</td>\n",
       "    </tr>\n",
       "  </tbody>\n",
       "</table>\n",
       "</div>"
      ],
      "text/plain": [
       "   Unnamed: 0          Station State airportCode    Lat     Lon  Elevation  \\\n",
       "0           1          Central    AK        PARL  65.57 -144.80        292   \n",
       "1           2             Atka    AK        PAAK  52.22 -174.20         17   \n",
       "2           3         Buckland    AK        PABL  65.99 -161.12          0   \n",
       "3           4  Portage Glacier    AK        PATO  60.79 -148.83         29   \n",
       "4           5         Nivalina    AK        PAVL  67.73 -164.55          3   \n",
       "\n",
       "     WMO  \n",
       "0  99999  \n",
       "1  99999  \n",
       "2  99999  \n",
       "3  99999  \n",
       "4  70148  "
      ]
     },
     "execution_count": 3,
     "metadata": {},
     "output_type": "execute_result"
    }
   ],
   "source": [
    "sta_df = pd.read_csv('USAirportWeatherStations.csv')\n",
    "sta_df.head()"
   ]
  },
  {
   "cell_type": "code",
   "execution_count": 4,
   "metadata": {},
   "outputs": [
    {
     "data": {
      "text/plain": [
       "array(['PARL', 'PAAK', 'PABL', ..., 'PGRO', 'PGSN', 'PGWT'], dtype=object)"
      ]
     },
     "execution_count": 4,
     "metadata": {},
     "output_type": "execute_result"
    }
   ],
   "source": [
    "st_list = sta_df['airportCode'].values\n",
    "st_list"
   ]
  },
  {
   "cell_type": "code",
   "execution_count": 5,
   "metadata": {},
   "outputs": [
    {
     "data": {
      "text/plain": [
       "'PARL'"
      ]
     },
     "execution_count": 5,
     "metadata": {},
     "output_type": "execute_result"
    }
   ],
   "source": [
    "st_list[0]"
   ]
  },
  {
   "cell_type": "code",
   "execution_count": 6,
   "metadata": {},
   "outputs": [
    {
     "data": {
      "text/html": [
       "<div>\n",
       "<style>\n",
       "    .dataframe thead tr:only-child th {\n",
       "        text-align: right;\n",
       "    }\n",
       "\n",
       "    .dataframe thead th {\n",
       "        text-align: left;\n",
       "    }\n",
       "\n",
       "    .dataframe tbody tr th {\n",
       "        vertical-align: top;\n",
       "    }\n",
       "</style>\n",
       "<table border=\"1\" class=\"dataframe\">\n",
       "  <thead>\n",
       "    <tr style=\"text-align: right;\">\n",
       "      <th></th>\n",
       "      <th>Unnamed: 0</th>\n",
       "      <th>Station</th>\n",
       "      <th>State</th>\n",
       "      <th>airportCode</th>\n",
       "      <th>Lat</th>\n",
       "      <th>Lon</th>\n",
       "      <th>Elevation</th>\n",
       "      <th>WMO</th>\n",
       "    </tr>\n",
       "  </thead>\n",
       "  <tbody>\n",
       "    <tr>\n",
       "      <th>1281</th>\n",
       "      <td>1282</td>\n",
       "      <td>Selmer</td>\n",
       "      <td>TN</td>\n",
       "      <td>KSZY</td>\n",
       "      <td>35.2</td>\n",
       "      <td>-88.5</td>\n",
       "      <td>186</td>\n",
       "      <td>99999</td>\n",
       "    </tr>\n",
       "  </tbody>\n",
       "</table>\n",
       "</div>"
      ],
      "text/plain": [
       "      Unnamed: 0 Station State airportCode   Lat   Lon  Elevation    WMO\n",
       "1281        1282  Selmer    TN        KSZY  35.2 -88.5        186  99999"
      ]
     },
     "execution_count": 6,
     "metadata": {},
     "output_type": "execute_result"
    }
   ],
   "source": [
    "sta_df[sta_df.airportCode=='KSZY']"
   ]
  },
  {
   "cell_type": "code",
   "execution_count": 7,
   "metadata": {},
   "outputs": [
    {
     "data": {
      "text/plain": [
       "'KSZY'"
      ]
     },
     "execution_count": 7,
     "metadata": {},
     "output_type": "execute_result"
    }
   ],
   "source": [
    "st_list = st_list[1281:]\n",
    "st_list[0]"
   ]
  },
  {
   "cell_type": "code",
   "execution_count": null,
   "metadata": {},
   "outputs": [
    {
     "name": "stdout",
     "output_type": "stream",
     "text": [
      "cleaning KSZY\n"
     ]
    }
   ],
   "source": [
    "\n",
    "for sta in st_list:\n",
    "    print('cleaning ' + sta)\n",
    "    dat = pd.read_sql_query(\"SELECT * FROM wea WHERE st_code=? \",con,params=[sta])\n",
    "    #dat.head()\n",
    "    dat = clean_data(dat)\n",
    "    #dat.to_csv('cleaned/' + sta + '_cleaned.csv',index=False)\n",
    "    \n",
    "    # write to S3\n",
    "    s3 = boto3.resource('s3')\n",
    "    #fname = csv_name\n",
    "    key_name = 'cleaned/' + sta + '_cleaned.csv'\n",
    "    #data = open(fname, 'rb')\n",
    "    data = dat.to_csv(None,index=False)\n",
    "    s3.Bucket('wundergrounddaily').put_object(Key=key_name, Body=data)\n",
    "\n",
    "    # write to 'clean' database table\n",
    "    dat.to_sql(\"wea_clean\",con,if_exists='append',index=False)\n"
   ]
  },
  {
   "cell_type": "code",
   "execution_count": null,
   "metadata": {},
   "outputs": [],
   "source": [
    "sta = st_list[0]\n",
    "dat = pd.read_sql_query(\"SELECT * FROM wea WHERE st_code=? \",con,params=[sta])\n",
    "dat.head()"
   ]
  },
  {
   "cell_type": "code",
   "execution_count": null,
   "metadata": {
    "collapsed": true
   },
   "outputs": [],
   "source": [
    "dat = clean_data(dat)"
   ]
  },
  {
   "cell_type": "code",
   "execution_count": null,
   "metadata": {},
   "outputs": [],
   "source": [
    "dat.info()"
   ]
  },
  {
   "cell_type": "code",
   "execution_count": null,
   "metadata": {},
   "outputs": [],
   "source": [
    "dat.precip_In.dtype=='float64'"
   ]
  },
  {
   "cell_type": "code",
   "execution_count": null,
   "metadata": {
    "collapsed": true
   },
   "outputs": [],
   "source": []
  }
 ],
 "metadata": {
  "kernelspec": {
   "display_name": "Python 3",
   "language": "python",
   "name": "python3"
  },
  "language_info": {
   "codemirror_mode": {
    "name": "ipython",
    "version": 3
   },
   "file_extension": ".py",
   "mimetype": "text/x-python",
   "name": "python",
   "nbconvert_exporter": "python",
   "pygments_lexer": "ipython3",
   "version": "3.6.1"
  }
 },
 "nbformat": 4,
 "nbformat_minor": 2
}
