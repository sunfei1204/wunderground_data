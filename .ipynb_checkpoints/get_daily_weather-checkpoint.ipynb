{
 "cells": [
  {
   "cell_type": "markdown",
   "metadata": {},
   "source": [
    "## Download daily weather data from wunderground for US airport stations, for last 30 years or so\n",
    "- write raw csv files to AWS S3 bucket\n",
    "- write all data to a sqlite database\n",
    "- <https://github.com/andypicke/wunderground_data>"
   ]
  },
  {
   "cell_type": "code",
   "execution_count": null,
   "metadata": {
    "collapsed": true
   },
   "outputs": [],
   "source": [
    "# Imports\n",
    "import sqlite3\n",
    "import pandas as pd\n",
    "import boto3"
   ]
  },
  {
   "cell_type": "code",
   "execution_count": null,
   "metadata": {
    "collapsed": true
   },
   "outputs": [],
   "source": [
    "# Define function to download data for a specified year and station\n",
    "# Do some minor modifications, renaming of variables etc, but no cleaning yet\n",
    "\n",
    "def get_wea_data_yearly(year,station):\n",
    "    \"\"\"\n",
    "    Get historical (daily) weather data from wunderground for specified year and station\n",
    "    \"\"\"\n",
    "    url = 'http://www.wunderground.com/history/airport/' + station + '/' + str(year) + '/1/1/CustomHistory.html?dayend=31&monthend=12&yearend=' + str(year) + '&req_city=NA&req_state=NA&req_statename=NA&format=1'\n",
    "    dat = pd.read_csv(url,parse_dates=True)\n",
    "    # Name of date column is tz, which varies so we can't hardwire name\n",
    "    dat.iloc[:,0] =  pd.to_datetime(dat.iloc[:,0])\n",
    "    dat['date'] = dat.iloc[:,0]\n",
    "    dat.set_index(dat.date, inplace=True)\n",
    "    dat['yday']  = dat.date.dt.dayofyear\n",
    "    dat['month'] = dat.date.dt.month\n",
    "    dat['year']  = dat.date.dt.year\n",
    "    dat.rename(columns=lambda x: x.replace(' ', '_'), inplace=True)\n",
    "    dat['st_code'] = station\n",
    "    vars_to_keep = ['date','st_code','Max_TemperatureF','Min_TemperatureF','Mean_TemperatureF','year','yday','month','PrecipitationIn','_CloudCover','_Max_Gust_SpeedMPH','_Events']\n",
    "    dat = dat[vars_to_keep]\n",
    "    dat.rename(columns={'Max_TemperatureF':'max_temp','Min_TemperatureF':'min_temp','Mean_TemperatureF':'mean_temp','PrecipitationIn':'precip_In','_CloudCover':\n",
    "        'cloud_cover','_Max_Gust_SpeedMPH':'max_gust_mph','_Events':'events'},inplace=True)    \n",
    "    \n",
    "    return dat\n",
    "\n"
   ]
  },
  {
   "cell_type": "code",
   "execution_count": null,
   "metadata": {
    "collapsed": true
   },
   "outputs": [],
   "source": [
    "# test function\n",
    "dat = get_wea_data_yearly(2000,'KRNO')\n",
    "dat.head()\n"
   ]
  },
  {
   "cell_type": "code",
   "execution_count": null,
   "metadata": {
    "collapsed": true
   },
   "outputs": [],
   "source": [
    "sta_list = pd.read_csv('USAirportWeatherStations.csv')\n",
    "sta_list.head()"
   ]
  },
  {
   "cell_type": "code",
   "execution_count": null,
   "metadata": {
    "collapsed": true
   },
   "outputs": [],
   "source": [
    "# If processing crashes, use below to restart where it left off\n",
    "#sta_list[sta_list.airportCode==\"KRNO\"]\n",
    "#stcodes = sta_list.airportCode.values\n",
    "#stcodes[1069]\n",
    "#stcodes = stcodes[1069:]\n"
   ]
  },
  {
   "cell_type": "code",
   "execution_count": null,
   "metadata": {
    "collapsed": true
   },
   "outputs": [],
   "source": [
    "# Write to databse\n",
    "\n",
    "con = sqlite3.connect('wunderground_daily.db')\n",
    "years = range(1950,2017)\n",
    "for sta in stcodes:\n",
    "    print('getting data for ' + sta )\n",
    "    for year in years:\n",
    "        #print('getting data for ' + sta + ' for ' + str(year))\n",
    "        try:\n",
    "            dat = get_wea_data_yearly(year,sta)\n",
    "            if (dat.shape[0]!=0):\n",
    "                dat.to_sql(\"wea\",con,if_exists='append',index=False)\n",
    "                # write to S3 also\n",
    "                s3 = boto3.resource('s3')\n",
    "                #fname = csv_name\n",
    "                key_name = sta + '_' + str(year) + '.csv'\n",
    "                #data = open(fname, 'rb')\n",
    "                data = dat.to_csv(None,index=False)\n",
    "                s3.Bucket('wundergrounddaily').put_object(Key=key_name, Body=data)\n",
    "        except:\n",
    "            pass\n",
    "\n",
    "            del dat\n"
   ]
  }
 ],
 "metadata": {
  "kernelspec": {
   "display_name": "Python 3",
   "language": "python",
   "name": "python3"
  },
  "language_info": {
   "codemirror_mode": {
    "name": "ipython",
    "version": 3
   },
   "file_extension": ".py",
   "mimetype": "text/x-python",
   "name": "python",
   "nbconvert_exporter": "python",
   "pygments_lexer": "ipython3",
   "version": "3.6.1"
  }
 },
 "nbformat": 4,
 "nbformat_minor": 2
}
