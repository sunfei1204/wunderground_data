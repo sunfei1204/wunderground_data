{
 "cells": [
  {
   "cell_type": "markdown",
   "metadata": {},
   "source": [
    "# clean_wea_data\n",
    "## Clean raw weather data downloaded in get_daily_weather.py\n",
    "## script version: clean_wea_data.py\n",
    "## <https://github.com/andypicke/wunderground_data>"
   ]
  },
  {
   "cell_type": "code",
   "execution_count": null,
   "metadata": {
    "collapsed": true
   },
   "outputs": [],
   "source": [
    "# %load /Users/Andy/jupyter_imports.py\n",
    "import boto3\n",
    "import pandas as pd\n",
    "import numpy as np\n",
    "import matplotlib.pyplot as plt\n",
    "%matplotlib inline\n",
    "\n",
    "# make plots look nice\n",
    "plt.rcParams['font.size'] = 14\n",
    "plt.rcParams['axes.labelsize'] = 'large'\n",
    "plt.rcParams['xtick.labelsize'] = 'large'\n",
    "plt.rcParams['ytick.labelsize'] = 'large'\n",
    "plt.rcParams['lines.linewidth'] = 3\n",
    "\n",
    "import sqlite3\n",
    "con = sqlite3.connect('/Users/Andy/Projects/wunderground_data/wunderground_daily.db')"
   ]
  },
  {
   "cell_type": "code",
   "execution_count": null,
   "metadata": {
    "collapsed": true
   },
   "outputs": [],
   "source": [
    "\n",
    "def clean_data(dat):\n",
    "\n",
    "    dat.date = pd.to_datetime(dat.date)\n",
    "\n",
    "    Tmin = -100\n",
    "    Tmax =  150\n",
    "\n",
    "    dat.where(dat.mean_temp>Tmin, inplace=True)\n",
    "    dat.where(dat.mean_temp<Tmax, inplace=True)\n",
    "\n",
    "    dat.where(dat.min_temp>Tmin, inplace=True)\n",
    "    dat.where(dat.min_temp<Tmax, inplace=True)\n",
    "\n",
    "    dat.where(dat.max_temp>Tmin, inplace=True)\n",
    "    dat.where(dat.max_temp<Tmax, inplace=True)\n",
    "\n",
    "    dat.where(dat.max_temp > dat.min_temp, inplace=True)\n",
    "\n",
    "    dat.drop_duplicates(inplace=True)\n",
    "    \n",
    "    # convert 'Trace' precip to 0.01\n",
    "    # I want to preserve the fact that there was rain, but very small amount\n",
    "    # Also, sometimes precip_In is read in as float, not object? (maybe if it contains no 'T'?)\n",
    "    if dat.precip_In.dtype=='object':\n",
    "        dat['precip_In'][dat['precip_In']=='T'] = '0.01'\n",
    "        dat.precip_In = pd.to_numeric(dat.precip_In)\n",
    "    \n",
    "    # some precip values are way too large\n",
    "    # According to weather.com :The most extreme 24-hour rainfall total on record \n",
    "    # in the U.S. is 42.0 inches near Alvin, Texas, between 7 a.m. July 25 and 7 a.m.\n",
    "    # July 26, 1979.\n",
    "    # I will keep values < 50\n",
    "    dat.where(dat.precip_In<50, inplace=True)\n",
    "    \n",
    "    # screen unreasonably high winds\n",
    "    dat.where(dat.max_gust_mph<300, inplace=True)\n",
    "    \n",
    "    return dat\n"
   ]
  },
  {
   "cell_type": "code",
   "execution_count": null,
   "metadata": {},
   "outputs": [],
   "source": [
    "sta_df = pd.read_csv('USAirportWeatherStations.csv')\n",
    "sta_df.head()"
   ]
  },
  {
   "cell_type": "code",
   "execution_count": null,
   "metadata": {},
   "outputs": [],
   "source": [
    "st_list = sta_df['airportCode'].values\n",
    "st_list"
   ]
  },
  {
   "cell_type": "code",
   "execution_count": null,
   "metadata": {},
   "outputs": [],
   "source": [
    "\n",
    "for sta in st_list:\n",
    "    print('cleaning ' + sta)\n",
    "    try:\n",
    "        dat = pd.read_sql_query(\"SELECT * FROM wea WHERE st_code=? \",con,params=[sta])\n",
    "        dat = clean_data(dat)\n",
    "        \n",
    "        # option to save local csv file\n",
    "        #dat.to_csv('cleaned/' + sta + '_cleaned.csv',index=False)\n",
    "\n",
    "        # write to S3\n",
    "        s3 = boto3.resource('s3')\n",
    "        key_name = 'cleaned/' + sta + '_cleaned.csv'\n",
    "        data = dat.to_csv(None,index=False)\n",
    "        s3.Bucket('wundergrounddaily').put_object(Key=key_name, Body=data)\n",
    "\n",
    "        # write to 'clean' database table\n",
    "        dat.to_sql(\"wea_clean\",con,if_exists='append',index=False)\n",
    "        \n",
    "        del dat\n",
    "    except:\n",
    "        pass\n",
    "    \n",
    "    "
   ]
  }
 ],
 "metadata": {
  "kernelspec": {
   "display_name": "Python 3",
   "language": "python",
   "name": "python3"
  },
  "language_info": {
   "codemirror_mode": {
    "name": "ipython",
    "version": 3
   },
   "file_extension": ".py",
   "mimetype": "text/x-python",
   "name": "python",
   "nbconvert_exporter": "python",
   "pygments_lexer": "ipython3",
   "version": "3.6.1"
  }
 },
 "nbformat": 4,
 "nbformat_minor": 2
}
