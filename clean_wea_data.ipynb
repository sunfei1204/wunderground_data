{
 "cells": [
  {
   "cell_type": "code",
   "execution_count": 1,
   "metadata": {
    "collapsed": true
   },
   "outputs": [],
   "source": [
    "# %load /Users/Andy/jupyter_imports.py\n",
    "import boto3\n",
    "import pandas as pd\n",
    "import numpy as np\n",
    "import matplotlib.pyplot as plt\n",
    "%matplotlib inline\n",
    "\n",
    "# make plots look nice\n",
    "plt.rcParams['font.size'] = 14\n",
    "plt.rcParams['axes.labelsize'] = 'large'\n",
    "plt.rcParams['xtick.labelsize'] = 'large'\n",
    "plt.rcParams['ytick.labelsize'] = 'large'\n",
    "plt.rcParams['lines.linewidth'] = 3\n",
    "\n",
    "import sqlite3\n",
    "con = sqlite3.connect('/Users/Andy/Projects/wunderground_data/wunderground_daily.db')"
   ]
  },
  {
   "cell_type": "code",
   "execution_count": 2,
   "metadata": {
    "collapsed": true
   },
   "outputs": [],
   "source": [
    "\n",
    "def clean_data(dat):\n",
    "\n",
    "    dat.date = pd.to_datetime(dat.date)\n",
    "\n",
    "    Tmin = -100\n",
    "    Tmax =  150\n",
    "\n",
    "    dat.where(dat.mean_temp>Tmin, inplace=True)\n",
    "    dat.where(dat.mean_temp<Tmax, inplace=True)\n",
    "\n",
    "    dat.where(dat.min_temp>Tmin, inplace=True)\n",
    "    dat.where(dat.min_temp<Tmax, inplace=True)\n",
    "\n",
    "    dat.where(dat.max_temp>Tmin, inplace=True)\n",
    "    dat.where(dat.max_temp<Tmax, inplace=True)\n",
    "\n",
    "    dat.where(dat.max_temp > dat.min_temp, inplace=True)\n",
    "\n",
    "    dat.drop_duplicates(inplace=True)\n",
    "    \n",
    "    # convert 'Trace' precip to 0.01\n",
    "    # I want to preserve the fact that there was rain, but very small amount\n",
    "    # Also, sometimes precip_In is read in as float, not object? (maybe if it contains no 'T'?)\n",
    "    if dat.precip_In.dtype=='object':\n",
    "        dat['precip_In'][dat['precip_In']=='T'] = '0.01'\n",
    "        dat.precip_In = pd.to_numeric(dat.precip_In)\n",
    "    \n",
    "    # some precip values are way too large\n",
    "    # According to weather.com :The most extreme 24-hour rainfall total on record \n",
    "    # in the U.S. is 42.0 inches near Alvin, Texas, between 7 a.m. July 25 and 7 a.m.\n",
    "    # July 26, 1979.\n",
    "    # I will keep values < 50\n",
    "    dat.where(dat.precip_In<50, inplace=True)\n",
    "    \n",
    "    # screen unreasonably high winds\n",
    "    dat.where(dat.max_gust_mph<300, inplace=True)\n",
    "    \n",
    "    return dat\n"
   ]
  },
  {
   "cell_type": "code",
   "execution_count": 3,
   "metadata": {},
   "outputs": [
    {
     "data": {
      "text/html": [
       "<div>\n",
       "<style>\n",
       "    .dataframe thead tr:only-child th {\n",
       "        text-align: right;\n",
       "    }\n",
       "\n",
       "    .dataframe thead th {\n",
       "        text-align: left;\n",
       "    }\n",
       "\n",
       "    .dataframe tbody tr th {\n",
       "        vertical-align: top;\n",
       "    }\n",
       "</style>\n",
       "<table border=\"1\" class=\"dataframe\">\n",
       "  <thead>\n",
       "    <tr style=\"text-align: right;\">\n",
       "      <th></th>\n",
       "      <th>Unnamed: 0</th>\n",
       "      <th>Station</th>\n",
       "      <th>State</th>\n",
       "      <th>airportCode</th>\n",
       "      <th>Lat</th>\n",
       "      <th>Lon</th>\n",
       "      <th>Elevation</th>\n",
       "      <th>WMO</th>\n",
       "    </tr>\n",
       "  </thead>\n",
       "  <tbody>\n",
       "    <tr>\n",
       "      <th>0</th>\n",
       "      <td>1</td>\n",
       "      <td>Central</td>\n",
       "      <td>AK</td>\n",
       "      <td>PARL</td>\n",
       "      <td>65.57</td>\n",
       "      <td>-144.80</td>\n",
       "      <td>292</td>\n",
       "      <td>99999</td>\n",
       "    </tr>\n",
       "    <tr>\n",
       "      <th>1</th>\n",
       "      <td>2</td>\n",
       "      <td>Atka</td>\n",
       "      <td>AK</td>\n",
       "      <td>PAAK</td>\n",
       "      <td>52.22</td>\n",
       "      <td>-174.20</td>\n",
       "      <td>17</td>\n",
       "      <td>99999</td>\n",
       "    </tr>\n",
       "    <tr>\n",
       "      <th>2</th>\n",
       "      <td>3</td>\n",
       "      <td>Buckland</td>\n",
       "      <td>AK</td>\n",
       "      <td>PABL</td>\n",
       "      <td>65.99</td>\n",
       "      <td>-161.12</td>\n",
       "      <td>0</td>\n",
       "      <td>99999</td>\n",
       "    </tr>\n",
       "    <tr>\n",
       "      <th>3</th>\n",
       "      <td>4</td>\n",
       "      <td>Portage Glacier</td>\n",
       "      <td>AK</td>\n",
       "      <td>PATO</td>\n",
       "      <td>60.79</td>\n",
       "      <td>-148.83</td>\n",
       "      <td>29</td>\n",
       "      <td>99999</td>\n",
       "    </tr>\n",
       "    <tr>\n",
       "      <th>4</th>\n",
       "      <td>5</td>\n",
       "      <td>Nivalina</td>\n",
       "      <td>AK</td>\n",
       "      <td>PAVL</td>\n",
       "      <td>67.73</td>\n",
       "      <td>-164.55</td>\n",
       "      <td>3</td>\n",
       "      <td>70148</td>\n",
       "    </tr>\n",
       "  </tbody>\n",
       "</table>\n",
       "</div>"
      ],
      "text/plain": [
       "   Unnamed: 0          Station State airportCode    Lat     Lon  Elevation  \\\n",
       "0           1          Central    AK        PARL  65.57 -144.80        292   \n",
       "1           2             Atka    AK        PAAK  52.22 -174.20         17   \n",
       "2           3         Buckland    AK        PABL  65.99 -161.12          0   \n",
       "3           4  Portage Glacier    AK        PATO  60.79 -148.83         29   \n",
       "4           5         Nivalina    AK        PAVL  67.73 -164.55          3   \n",
       "\n",
       "     WMO  \n",
       "0  99999  \n",
       "1  99999  \n",
       "2  99999  \n",
       "3  99999  \n",
       "4  70148  "
      ]
     },
     "execution_count": 3,
     "metadata": {},
     "output_type": "execute_result"
    }
   ],
   "source": [
    "sta_df = pd.read_csv('USAirportWeatherStations.csv')\n",
    "sta_df.head()"
   ]
  },
  {
   "cell_type": "code",
   "execution_count": 4,
   "metadata": {},
   "outputs": [
    {
     "data": {
      "text/html": [
       "<div>\n",
       "<style>\n",
       "    .dataframe thead tr:only-child th {\n",
       "        text-align: right;\n",
       "    }\n",
       "\n",
       "    .dataframe thead th {\n",
       "        text-align: left;\n",
       "    }\n",
       "\n",
       "    .dataframe tbody tr th {\n",
       "        vertical-align: top;\n",
       "    }\n",
       "</style>\n",
       "<table border=\"1\" class=\"dataframe\">\n",
       "  <thead>\n",
       "    <tr style=\"text-align: right;\">\n",
       "      <th></th>\n",
       "      <th>Unnamed: 0</th>\n",
       "      <th>Station</th>\n",
       "      <th>State</th>\n",
       "      <th>airportCode</th>\n",
       "      <th>Lat</th>\n",
       "      <th>Lon</th>\n",
       "      <th>Elevation</th>\n",
       "      <th>WMO</th>\n",
       "    </tr>\n",
       "  </thead>\n",
       "  <tbody>\n",
       "    <tr>\n",
       "      <th>1282</th>\n",
       "      <td>1283</td>\n",
       "      <td>Union City</td>\n",
       "      <td>TN</td>\n",
       "      <td>KUCY</td>\n",
       "      <td>36.38</td>\n",
       "      <td>-88.99</td>\n",
       "      <td>104</td>\n",
       "      <td>99999</td>\n",
       "    </tr>\n",
       "  </tbody>\n",
       "</table>\n",
       "</div>"
      ],
      "text/plain": [
       "      Unnamed: 0     Station State airportCode    Lat    Lon  Elevation    WMO\n",
       "1282        1283  Union City    TN        KUCY  36.38 -88.99        104  99999"
      ]
     },
     "execution_count": 4,
     "metadata": {},
     "output_type": "execute_result"
    }
   ],
   "source": [
    "st_list = sta_df['airportCode'].values\n",
    "st_list\n",
    "sta_df[sta_df.airportCode=='KUCY']\n"
   ]
  },
  {
   "cell_type": "code",
   "execution_count": 5,
   "metadata": {},
   "outputs": [
    {
     "data": {
      "text/plain": [
       "'KM08'"
      ]
     },
     "execution_count": 5,
     "metadata": {},
     "output_type": "execute_result"
    }
   ],
   "source": [
    "st_list = st_list[1284:]\n",
    "st_list[0]"
   ]
  },
  {
   "cell_type": "code",
   "execution_count": 6,
   "metadata": {},
   "outputs": [
    {
     "data": {
      "text/plain": [
       "array(['KM08', 'KM52', 'KSNH', 'KBNA', 'KCHA', 'KCSV', 'KDYR', 'KMEM',\n",
       "       'KMKL', 'KMQY', 'KNQA', 'KTRI', 'KTYS', 'KOQT', 'K11R', 'KGPM',\n",
       "       'K6R6', 'KTKI', 'KGKY', 'KCRS', 'KTRL', 'KBAZ', 'KABI', 'KACT',\n",
       "       'KADS', 'KAFW', 'KALI', 'KAMA', 'KATT', 'KAUS', 'KBGD', 'KBPT',\n",
       "       'KBRO', 'KBMQ', 'KCDS', 'KCLL', 'KCOT', 'KCRP', 'KCXO', 'KDAL',\n",
       "       'KDFW', 'KDHT', 'KDLF', 'KDRT', 'KDTO', 'KGTU', 'KDWH', 'KLVJ',\n",
       "       'KDYS', 'KEFD', 'KELP', 'KF39', 'KFST', 'KFTW', 'KGDP', 'KGGG',\n",
       "       'KGLS', 'KGRK', 'KGVT', 'KHDO', 'KHLR', 'KHOU', 'KHRL', 'KIAH',\n",
       "       'KILE', 'KINK', 'KJCT', 'KLBB', 'KLBX', 'KLFK', 'KLRD', 'KMAF',\n",
       "       'KMFE', 'KMRF', 'KMWL', 'KNFW', 'KNGP', 'KNQI', 'KOCH', 'KPRX',\n",
       "       'KPSX', 'KPWG', 'KRBD', 'KRKP', 'KRND', 'KRPE', 'KSAT', 'KHYI',\n",
       "       'KSEP', 'KSGR', 'KSJT', 'KSKF', 'KSPS', 'KSSF', 'KTPL', 'KTYR',\n",
       "       'KUTS', 'KVCT', 'KODO', 'KPIL', 'K4BL', 'K4HV', 'KBCE', 'KCDC',\n",
       "       'KENV', 'KHIF', 'KLGU', 'KMLF', 'KCNY', 'KOGD', 'KPUC', 'KPVU',\n",
       "       'KSGU', 'KSLC', 'KU24', 'KU28', 'KVEL', 'KLKU', 'KOMH', 'KCPK',\n",
       "       'KCJR', 'KEZF', 'KJYO', 'KMFV', 'KMKJ', 'KVJI', 'KPSK', 'KMTV',\n",
       "       'KBCB', 'KCHO', 'KDAA', 'KDAN', 'KDCA', 'KFAF', 'KHEF', 'KHSP',\n",
       "       'KIAD', 'KLFI', 'KHLX', 'KLNP', 'KLYH', 'KNGU', 'KNTU', 'KNYG',\n",
       "       'KOFP', 'KORF', 'KPHF', 'KPTB', 'KRIC', 'KROA', 'KFKN', 'KFVX',\n",
       "       'KOKV', 'KAVC', 'KSHD', 'KSFQ', 'KAKQ', 'KWAL', 'K1V4', 'KBTV',\n",
       "       'KMPV', 'KMVL', 'KRUT', 'KVSF', 'KDDH', 'KDEW', 'KALW', 'KAWO',\n",
       "       'KBFI', 'KCQV', 'KBLI', 'KCLM', 'KEAT', 'KELN', 'KEPH', 'KFHR',\n",
       "       'KGEG', 'KGRF', 'KHMS', 'KHQM', 'KOMK', 'KKLS', 'KMWH', 'KNUW',\n",
       "       'KOLM', 'KPAE', 'KPSC', 'KPUW', 'KPWT', 'KRNT', 'KSEA', 'KSFF',\n",
       "       'KSHN', 'KSKA', 'KSMP', 'KTCM', 'KTDO', 'KTIW', 'KUIL', 'KVUO',\n",
       "       'KYKM', 'KRNH', 'KRRL', 'KPDC', 'KCLI', 'KOVS', 'KDYT', 'KUNU',\n",
       "       'KMRJ', 'KEGV', 'KAIG', 'KARV', 'KATW', 'KETB', 'KAUW', 'KCWA',\n",
       "       'KDLL', 'KEAU', 'KFLD', 'KGRB', 'KHYR', 'KISW', 'KJVL', 'KENW',\n",
       "       'KLNR', 'KLSE', 'KMFI', 'KMKE', 'KMSN', 'KMTW', 'KMDZ', 'KMWC',\n",
       "       'KEFT', 'KOEO', 'KOSH', 'KPBH', 'KRAC', 'KRHI', 'KRPD', 'KSBM',\n",
       "       'KSTE', 'KSUE', 'KSUW', 'KRYV', 'KUES', 'KVOK', 'KASX', 'KW99',\n",
       "       'KBKW', 'KBLF', 'KCKB', 'KCRW', 'KEKN', 'KHLG', 'KHTS', 'KLWB',\n",
       "       'KMGW', 'KMRB', 'KPKB', 'KARL', 'KBFU', 'KBIT', 'KBRX', 'KBVR',\n",
       "       'KCHJ', 'KCMS', 'KCTD', 'KDHS', 'KDRC', 'KFIR', 'KGUN', 'KHLD',\n",
       "       'KIDV', 'KIKA', 'KMTR', 'KPAT', 'KPIN', 'KPUM', 'KRIM', 'KSGE',\n",
       "       'KSHC', 'KSIB', 'KSKL', 'KTMH', 'KVDW', 'KWTR', 'KTOR', 'KDGW',\n",
       "       'KBPI', 'KCOD', 'KCPR', 'KCYS', 'KEVW', 'KGCC', 'KJAC', 'KLAR',\n",
       "       'KLND', 'KP60', 'KRIW', 'KRKS', 'KRWL', 'KSHR', 'KWRL', 'KBYG',\n",
       "       'KGEY', 'TJNR', 'TJSJ', 'TJPS', 'TJBQ', 'TJMZ', 'TIST', 'TISX',\n",
       "       'TUPJ', 'PGUM', 'PGUA', 'PGRO', 'PGSN', 'PGWT'], dtype=object)"
      ]
     },
     "execution_count": 6,
     "metadata": {},
     "output_type": "execute_result"
    }
   ],
   "source": [
    "st_list"
   ]
  },
  {
   "cell_type": "code",
   "execution_count": null,
   "metadata": {},
   "outputs": [
    {
     "name": "stdout",
     "output_type": "stream",
     "text": [
      "cleaning KM08\n",
      "cleaning KM52\n"
     ]
    }
   ],
   "source": [
    "\n",
    "for sta in st_list:\n",
    "    print('cleaning ' + sta)\n",
    "    try:\n",
    "        dat = pd.read_sql_query(\"SELECT * FROM wea WHERE st_code=? \",con,params=[sta])\n",
    "        #dat.head()\n",
    "        dat = clean_data(dat)\n",
    "        #dat.to_csv('cleaned/' + sta + '_cleaned.csv',index=False)\n",
    "\n",
    "        # write to S3\n",
    "        s3 = boto3.resource('s3')\n",
    "        #fname = csv_name\n",
    "        key_name = 'cleaned/' + sta + '_cleaned.csv'\n",
    "        #data = open(fname, 'rb')\n",
    "        data = dat.to_csv(None,index=False)\n",
    "        s3.Bucket('wundergrounddaily').put_object(Key=key_name, Body=data)\n",
    "\n",
    "        # write to 'clean' database table\n",
    "        dat.to_sql(\"wea_clean\",con,if_exists='append',index=False)\n",
    "        del dat\n",
    "    except:\n",
    "        pass\n",
    "    \n",
    "    "
   ]
  },
  {
   "cell_type": "code",
   "execution_count": null,
   "metadata": {
    "collapsed": true
   },
   "outputs": [],
   "source": []
  }
 ],
 "metadata": {
  "kernelspec": {
   "display_name": "Python 3",
   "language": "python",
   "name": "python3"
  },
  "language_info": {
   "codemirror_mode": {
    "name": "ipython",
    "version": 3
   },
   "file_extension": ".py",
   "mimetype": "text/x-python",
   "name": "python",
   "nbconvert_exporter": "python",
   "pygments_lexer": "ipython3",
   "version": "3.6.1"
  }
 },
 "nbformat": 4,
 "nbformat_minor": 2
}
